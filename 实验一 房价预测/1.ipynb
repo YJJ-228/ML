{
 "cells": [
  {
   "cell_type": "code",
   "execution_count": null,
   "metadata": {},
   "outputs": [],
   "source": [
    "import pandas as pd\n",
    "from sklearn.linear_model import LinearRegression\n",
    "import matplotlib.pyplot as plt\n",
    "from scipy import stats\n",
    "\n",
    "data = pd.read_csv(\"房价预测.csv\")\n",
    "x = data[\"Year\"].values\n",
    "y = data[\"Price\"].values"
   ]
  },
  {
   "cell_type": "code",
   "execution_count": null,
   "metadata": {},
   "outputs": [],
   "source": [
    "model = LinearRegression().fit(x.reshape(-1,1), y)\n",
    "y_result = model.predict(x.reshape(-1,1))"
   ]
  },
  {
   "cell_type": "code",
   "execution_count": null,
   "metadata": {},
   "outputs": [],
   "source": [
    "slope, intercept, r_value, p_value, std_err = stats.linregress(x, y)\n",
    "y_fit = slope * x + intercept\n",
    "t_value = slope / std_err\n",
    "mse = ((data['Price'] - y_result)**2).mean()\n"
   ]
  },
  {
   "cell_type": "code",
   "execution_count": null,
   "metadata": {},
   "outputs": [],
   "source": [
    "plt.figure(figsize=(5, 3))\n",
    "plt.scatter(x, y, label='Original Data')\n",
    "plt.plot(x, y_fit, color='red', label='Fitted Line')\n",
    "plt.xlabel('Year')\n",
    "plt.ylabel('Price (Unit: Thousand Yuan/m²)')\n",
    "plt.title('Nanjing Housing Price Trend')\n",
    "plt.legend()\n",
    "plt.grid(True)"
   ]
  },
  {
   "cell_type": "code",
   "execution_count": null,
   "metadata": {},
   "outputs": [],
   "source": [
    "print(f\"R^2为: {r_value}\")\n",
    "print(f\"t变量为: {t_value}\")\n",
    "print(f\"p变量为: {p_value}\")\n",
    "print(f\"均方误差为: {mse}\")\n",
    "print(f\"斜率为: {slope}\")\n",
    "print(f\"截距为: {intercept}\")\n",
    "print(f\"斜率标准差为: {std_err}\")"
   ]
  }
 ],
 "metadata": {
  "kernelspec": {
   "display_name": "Python 3",
   "language": "python",
   "name": "python3"
  },
  "language_info": {
   "codemirror_mode": {
    "name": "ipython",
    "version": 3
   },
   "file_extension": ".py",
   "mimetype": "text/x-python",
   "name": "python",
   "nbconvert_exporter": "python",
   "pygments_lexer": "ipython3",
   "version": "3.13.0"
  }
 },
 "nbformat": 4,
 "nbformat_minor": 2
}
